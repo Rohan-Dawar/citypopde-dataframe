{
  "nbformat": 4,
  "nbformat_minor": 0,
  "metadata": {
    "colab": {
      "name": "citypopde.ipynb",
      "provenance": [],
      "collapsed_sections": []
    },
    "kernelspec": {
      "name": "python3",
      "display_name": "Python 3"
    }
  },
  "cells": [
    {
      "cell_type": "markdown",
      "metadata": {
        "id": "Yf2HTsZVrAdd"
      },
      "source": [
        "## THE GOAL OF THIS SCRIPT:"
      ]
    },
    {
      "cell_type": "markdown",
      "metadata": {
        "id": "AqLrkL9UrCzJ"
      },
      "source": [
        "Given a link from https://www.citypopulation.de/  \r\n",
        "Return a pandas dataframe of the cities with populations and coordinates  \r\n",
        "returncoords sub-function: given citypop.de city page, return lat,long coordinates\r\n"
      ]
    },
    {
      "cell_type": "code",
      "metadata": {
        "id": "wp7O3TqvrBiH"
      },
      "source": [
        "# Dependencies:\r\n",
        "from bs4 import BeautifulSoup\r\n",
        "import requests\r\n",
        "import pandas as pd"
      ],
      "execution_count": 87,
      "outputs": []
    },
    {
      "cell_type": "code",
      "metadata": {
        "id": "YZpJ9JzqTBe9"
      },
      "source": [
        "# Base URL & Extensions\r\n",
        "baseurl = 'https://www.citypopulation.de'\r\n",
        "ext_usa_cities = '/en/usa/cities/'\r\n",
        "ext_can_cities = '/en/canada/agglo/'"
      ],
      "execution_count": 88,
      "outputs": []
    },
    {
      "cell_type": "code",
      "metadata": {
        "id": "I2wZOXDqO-IR"
      },
      "source": [
        "def buildDF(tableURL):\r\n",
        "  \"\"\"\r\n",
        "  Given URL of citypopulation.de city page\r\n",
        "  Return a pandas dataframe with rows including city name, latest population estimate, and href link to city page\r\n",
        "  \"\"\"\r\n",
        "  r = requests.get(tableURL)\r\n",
        "  soup = BeautifulSoup(r.text, 'html.parser')\r\n",
        "  soup3 = soup.find_all(itemtype=\"http://schema.org/City\")\r\n",
        "  df = pd.DataFrame(columns=[\"citystate\", \"pop\", \"link\"])\r\n",
        "  for i in range(len(soup3)):\r\n",
        "    pop = soup3[i].find(\"td\", class_=\"rpop prio1\").text\r\n",
        "    pop = int(pop.replace(\",\",''))\r\n",
        "    tree = soup3[i].find_all(\"td\")\r\n",
        "    href = tree[-1].find('a')['href']\r\n",
        "    name = soup3[i].find(\"td\", class_=\"rname\").text\r\n",
        "    df = df.append({'citystate' : name, 'pop' : pop, 'link' : href}, ignore_index = True)\r\n",
        "  return df"
      ],
      "execution_count": 83,
      "outputs": []
    },
    {
      "cell_type": "markdown",
      "metadata": {
        "id": "LA1yWnSGLvyV"
      },
      "source": [
        "### Coordinate Extraction"
      ]
    },
    {
      "cell_type": "code",
      "metadata": {
        "id": "biDH8N32NvVa"
      },
      "source": [
        "def returncoords(cityurl):\r\n",
        "  \"\"\"\r\n",
        "  Given URL of citypopulation.de city page\r\n",
        "  Return tuple form, decimal notation (longitude, latitude) coordinates of city\r\n",
        "  !!! TO DO: re-write fn using 'http://schema.org/City' geo attr rather than string splitting\r\n",
        "  \"\"\"\r\n",
        "  r = requests.get(cityurl)\r\n",
        "  soup = BeautifulSoup(r.text, 'html.parser')\r\n",
        "  mainscriptTag = soup.find(\"script\")\r\n",
        "  checkHREF = list(mainscriptTag.children)[0]\r\n",
        "  if not 'window.location.href' in checkHREF:\r\n",
        "    longstring = str(mainscriptTag).split(';')[6]\r\n",
        "    latstring = str(mainscriptTag).split(';')[7]\r\n",
        "    longi = float(longstring.split('=')[-1].strip())\r\n",
        "    lat = float(latstring.split('=')[-1].strip())\r\n",
        "    return (longi, lat)\r\n",
        "  else:\r\n",
        "    return None"
      ],
      "execution_count": 84,
      "outputs": []
    },
    {
      "cell_type": "code",
      "metadata": {
        "id": "9k1i3Ifjv2nV"
      },
      "source": [
        "def buildCoordDF(tableURL):\r\n",
        "  '''\r\n",
        "  Given URL of citypopulation.de city page\r\n",
        "  Build a pandas dataframe including city name, latest population estimate,\r\n",
        "  href to city page and tuple form, decimal notation (longitude, latitude) coordinates of city\r\n",
        "  Drops redirected city pages\r\n",
        "  '''\r\n",
        "  df = buildDF(tableURL)\r\n",
        "  df['coords'] = df['link'].apply(lambda x: returncoords(baseurl+x))\r\n",
        "  return df.dropna()"
      ],
      "execution_count": 85,
      "outputs": []
    },
    {
      "cell_type": "code",
      "metadata": {
        "colab": {
          "base_uri": "https://localhost:8080/",
          "height": 423
        },
        "id": "ScDEhYmSwRHB",
        "outputId": "276d6926-3008-4734-9726-eb1f533f228b"
      },
      "source": [
        "buildCoordDF(baseurl+ext_usa_cities)"
      ],
      "execution_count": 86,
      "outputs": [
        {
          "output_type": "execute_result",
          "data": {
            "text/html": [
              "<div>\n",
              "<style scoped>\n",
              "    .dataframe tbody tr th:only-of-type {\n",
              "        vertical-align: middle;\n",
              "    }\n",
              "\n",
              "    .dataframe tbody tr th {\n",
              "        vertical-align: top;\n",
              "    }\n",
              "\n",
              "    .dataframe thead th {\n",
              "        text-align: right;\n",
              "    }\n",
              "</style>\n",
              "<table border=\"1\" class=\"dataframe\">\n",
              "  <thead>\n",
              "    <tr style=\"text-align: right;\">\n",
              "      <th></th>\n",
              "      <th>citystate</th>\n",
              "      <th>pop</th>\n",
              "      <th>link</th>\n",
              "      <th>coords</th>\n",
              "    </tr>\n",
              "  </thead>\n",
              "  <tbody>\n",
              "    <tr>\n",
              "      <th>0</th>\n",
              "      <td>Abilene</td>\n",
              "      <td>123420</td>\n",
              "      <td>/en/usa/texas/taylor_jones/4801000__abilene/</td>\n",
              "      <td>(-99.733, 32.449)</td>\n",
              "    </tr>\n",
              "    <tr>\n",
              "      <th>1</th>\n",
              "      <td>Akron</td>\n",
              "      <td>197597</td>\n",
              "      <td>/en/usa/ohio/summit/3901000__akron/</td>\n",
              "      <td>(-81.517, 41.085)</td>\n",
              "    </tr>\n",
              "    <tr>\n",
              "      <th>2</th>\n",
              "      <td>Albuquerque</td>\n",
              "      <td>560513</td>\n",
              "      <td>/en/usa/newmexico/bernalillo/3502000__albuquer...</td>\n",
              "      <td>(-106.652, 35.084)</td>\n",
              "    </tr>\n",
              "    <tr>\n",
              "      <th>3</th>\n",
              "      <td>Alexandria</td>\n",
              "      <td>159428</td>\n",
              "      <td>/en/usa/virginia/alexandria/5101000__alexandria/</td>\n",
              "      <td>(-77.047, 38.805)</td>\n",
              "    </tr>\n",
              "    <tr>\n",
              "      <th>4</th>\n",
              "      <td>Allen</td>\n",
              "      <td>105623</td>\n",
              "      <td>/en/usa/texas/collin/4801924__allen/</td>\n",
              "      <td>(-96.67, 33.103)</td>\n",
              "    </tr>\n",
              "    <tr>\n",
              "      <th>...</th>\n",
              "      <td>...</td>\n",
              "      <td>...</td>\n",
              "      <td>...</td>\n",
              "      <td>...</td>\n",
              "    </tr>\n",
              "    <tr>\n",
              "      <th>326</th>\n",
              "      <td>Wichita Falls</td>\n",
              "      <td>104683</td>\n",
              "      <td>/en/usa/texas/wichita/4879000__wichita_falls/</td>\n",
              "      <td>(-98.492, 33.912)</td>\n",
              "    </tr>\n",
              "    <tr>\n",
              "      <th>327</th>\n",
              "      <td>Wilmington</td>\n",
              "      <td>123744</td>\n",
              "      <td>/en/usa/northcarolina/new_hanover/3774440__wil...</td>\n",
              "      <td>(-77.949, 34.235)</td>\n",
              "    </tr>\n",
              "    <tr>\n",
              "      <th>328</th>\n",
              "      <td>Winston-Salem</td>\n",
              "      <td>247945</td>\n",
              "      <td>/en/usa/northcarolina/forsyth/3775000__winston...</td>\n",
              "      <td>(-80.244, 36.095)</td>\n",
              "    </tr>\n",
              "    <tr>\n",
              "      <th>329</th>\n",
              "      <td>Worcester</td>\n",
              "      <td>185428</td>\n",
              "      <td>/en/usa/massachusetts/worcester/2582000__worce...</td>\n",
              "      <td>(-71.802, 42.263)</td>\n",
              "    </tr>\n",
              "    <tr>\n",
              "      <th>330</th>\n",
              "      <td>Yonkers</td>\n",
              "      <td>200370</td>\n",
              "      <td>/en/usa/newyork/westchester/3684000__yonkers/</td>\n",
              "      <td>(-73.899, 40.932)</td>\n",
              "    </tr>\n",
              "  </tbody>\n",
              "</table>\n",
              "<p>330 rows × 4 columns</p>\n",
              "</div>"
            ],
            "text/plain": [
              "         citystate  ...              coords\n",
              "0          Abilene  ...   (-99.733, 32.449)\n",
              "1            Akron  ...   (-81.517, 41.085)\n",
              "2      Albuquerque  ...  (-106.652, 35.084)\n",
              "3       Alexandria  ...   (-77.047, 38.805)\n",
              "4            Allen  ...    (-96.67, 33.103)\n",
              "..             ...  ...                 ...\n",
              "326  Wichita Falls  ...   (-98.492, 33.912)\n",
              "327     Wilmington  ...   (-77.949, 34.235)\n",
              "328  Winston-Salem  ...   (-80.244, 36.095)\n",
              "329      Worcester  ...   (-71.802, 42.263)\n",
              "330        Yonkers  ...   (-73.899, 40.932)\n",
              "\n",
              "[330 rows x 4 columns]"
            ]
          },
          "metadata": {
            "tags": []
          },
          "execution_count": 86
        }
      ]
    }
  ]
}